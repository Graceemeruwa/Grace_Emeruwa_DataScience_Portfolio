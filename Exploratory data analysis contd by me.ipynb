{
 "cells": [
  {
   "cell_type": "markdown",
   "id": "48a35b11",
   "metadata": {},
   "source": [
    "our goals for EDA is to explore the data\n",
    "and find insights. The purpose of EDA is to \n",
    "1. maximimise insights into a dataset\n",
    "2. see any underlyinng structures\n",
    "3. identify the important variables or feature\n",
    "4. detect outliers\n",
    "5. test your underlying assumptions"
   ]
  },
  {
   "cell_type": "markdown",
   "id": "120ef8d9",
   "metadata": {},
   "source": [
    "#### what we'll be doing in this notebook\n",
    "1. check variable types\n",
    "2. check for missing values\n",
    "3. look at the no and sensibility of observation in the dataset\n",
    "4. describe the data\n",
    "5. investigate some plotting techniques"
   ]
  },
  {
   "cell_type": "markdown",
   "id": "2a33f361",
   "metadata": {},
   "source": [
    "#### Import packages"
   ]
  },
  {
   "cell_type": "code",
   "execution_count": 8,
   "id": "6043f80e",
   "metadata": {},
   "outputs": [],
   "source": [
    "import pandas as pd\n",
    "import numpy as np\n",
    "import seaborn as sns\n",
    "import matplotlib.pyplot as plt\n",
    "from datetime import datetime\n",
    "import dateutil.parser\n",
    "\n",
    "#set jupyter to display up to 50 columns, so we can see evrything\n",
    "pd.set_option('display.max_columns', 50)\n",
    "pd.set_option('expand_frame_repr', True)\n",
    "\n",
    "#show figures in notebook\n",
    "%matplotlib inline "
   ]
  },
  {
   "cell_type": "markdown",
   "id": "cef1cbf3",
   "metadata": {},
   "source": [
    "Read in your dataset "
   ]
  },
  {
   "cell_type": "code",
   "execution_count": 9,
   "id": "6ae8f4d0",
   "metadata": {},
   "outputs": [
    {
     "data": {
      "text/html": [
       "<div>\n",
       "<style scoped>\n",
       "    .dataframe tbody tr th:only-of-type {\n",
       "        vertical-align: middle;\n",
       "    }\n",
       "\n",
       "    .dataframe tbody tr th {\n",
       "        vertical-align: top;\n",
       "    }\n",
       "\n",
       "    .dataframe thead th {\n",
       "        text-align: right;\n",
       "    }\n",
       "</style>\n",
       "<table border=\"1\" class=\"dataframe\">\n",
       "  <thead>\n",
       "    <tr style=\"text-align: right;\">\n",
       "      <th></th>\n",
       "      <th>id_number</th>\n",
       "      <th>loan_amount</th>\n",
       "      <th>lender_count</th>\n",
       "      <th>status</th>\n",
       "      <th>funded_date</th>\n",
       "      <th>funded_amount</th>\n",
       "      <th>repayment_term</th>\n",
       "      <th>location_country_code</th>\n",
       "      <th>sector</th>\n",
       "      <th>description</th>\n",
       "      <th>use</th>\n",
       "    </tr>\n",
       "  </thead>\n",
       "  <tbody>\n",
       "    <tr>\n",
       "      <th>0</th>\n",
       "      <td>736066</td>\n",
       "      <td>4825</td>\n",
       "      <td>60</td>\n",
       "      <td>funded</td>\n",
       "      <td>2014-08-03T17:51:50Z</td>\n",
       "      <td>4825</td>\n",
       "      <td>8</td>\n",
       "      <td>BJ</td>\n",
       "      <td>Retail</td>\n",
       "      <td>NaN</td>\n",
       "      <td>NaN</td>\n",
       "    </tr>\n",
       "    <tr>\n",
       "      <th>1</th>\n",
       "      <td>743090</td>\n",
       "      <td>975</td>\n",
       "      <td>34</td>\n",
       "      <td>funded</td>\n",
       "      <td>2014-08-18T09:10:54Z</td>\n",
       "      <td>975</td>\n",
       "      <td>12</td>\n",
       "      <td>BJ</td>\n",
       "      <td>Food</td>\n",
       "      <td>NaN</td>\n",
       "      <td>NaN</td>\n",
       "    </tr>\n",
       "    <tr>\n",
       "      <th>2</th>\n",
       "      <td>743120</td>\n",
       "      <td>950</td>\n",
       "      <td>25</td>\n",
       "      <td>funded</td>\n",
       "      <td>2014-08-09T17:46:35Z</td>\n",
       "      <td>950</td>\n",
       "      <td>14</td>\n",
       "      <td>BJ</td>\n",
       "      <td>Services</td>\n",
       "      <td>NaN</td>\n",
       "      <td>NaN</td>\n",
       "    </tr>\n",
       "    <tr>\n",
       "      <th>3</th>\n",
       "      <td>743121</td>\n",
       "      <td>825</td>\n",
       "      <td>28</td>\n",
       "      <td>funded</td>\n",
       "      <td>2014-08-24T17:00:38Z</td>\n",
       "      <td>825</td>\n",
       "      <td>14</td>\n",
       "      <td>BJ</td>\n",
       "      <td>Retail</td>\n",
       "      <td>NaN</td>\n",
       "      <td>NaN</td>\n",
       "    </tr>\n",
       "    <tr>\n",
       "      <th>4</th>\n",
       "      <td>743124</td>\n",
       "      <td>725</td>\n",
       "      <td>21</td>\n",
       "      <td>funded</td>\n",
       "      <td>2014-08-25T03:24:54Z</td>\n",
       "      <td>725</td>\n",
       "      <td>13</td>\n",
       "      <td>BJ</td>\n",
       "      <td>Retail</td>\n",
       "      <td>NaN</td>\n",
       "      <td>NaN</td>\n",
       "    </tr>\n",
       "    <tr>\n",
       "      <th>...</th>\n",
       "      <td>...</td>\n",
       "      <td>...</td>\n",
       "      <td>...</td>\n",
       "      <td>...</td>\n",
       "      <td>...</td>\n",
       "      <td>...</td>\n",
       "      <td>...</td>\n",
       "      <td>...</td>\n",
       "      <td>...</td>\n",
       "      <td>...</td>\n",
       "      <td>...</td>\n",
       "    </tr>\n",
       "    <tr>\n",
       "      <th>6014</th>\n",
       "      <td>1568871</td>\n",
       "      <td>200</td>\n",
       "      <td>8</td>\n",
       "      <td>funded</td>\n",
       "      <td>2018-07-19T15:14:35Z</td>\n",
       "      <td>200</td>\n",
       "      <td>14</td>\n",
       "      <td>ZW</td>\n",
       "      <td>Food</td>\n",
       "      <td>Sethukelo is a 19-year-old entrepreneur who li...</td>\n",
       "      <td>to purchase goods for starting a grocery store.</td>\n",
       "    </tr>\n",
       "    <tr>\n",
       "      <th>6015</th>\n",
       "      <td>1568880</td>\n",
       "      <td>200</td>\n",
       "      <td>8</td>\n",
       "      <td>funded</td>\n",
       "      <td>2018-07-19T19:22:43Z</td>\n",
       "      <td>200</td>\n",
       "      <td>14</td>\n",
       "      <td>ZW</td>\n",
       "      <td>Food</td>\n",
       "      <td>Hlanjiwe is a 20-year-old entrepreneur who liv...</td>\n",
       "      <td>to buy grocery goods for her business.</td>\n",
       "    </tr>\n",
       "    <tr>\n",
       "      <th>6016</th>\n",
       "      <td>1568883</td>\n",
       "      <td>200</td>\n",
       "      <td>6</td>\n",
       "      <td>funded</td>\n",
       "      <td>2018-07-19T20:18:53Z</td>\n",
       "      <td>200</td>\n",
       "      <td>14</td>\n",
       "      <td>ZW</td>\n",
       "      <td>Clothing</td>\n",
       "      <td>Lebuhani is a 21-year-old entrepreneur who liv...</td>\n",
       "      <td>to buy clothes for her business.</td>\n",
       "    </tr>\n",
       "    <tr>\n",
       "      <th>6017</th>\n",
       "      <td>1568887</td>\n",
       "      <td>200</td>\n",
       "      <td>8</td>\n",
       "      <td>funded</td>\n",
       "      <td>2018-07-18T23:38:44Z</td>\n",
       "      <td>200</td>\n",
       "      <td>14</td>\n",
       "      <td>ZW</td>\n",
       "      <td>Food</td>\n",
       "      <td>Jacqueline is a 23-year-old entrepreneur who l...</td>\n",
       "      <td>her to buy goods to sell in her store.</td>\n",
       "    </tr>\n",
       "    <tr>\n",
       "      <th>6018</th>\n",
       "      <td>1568890</td>\n",
       "      <td>200</td>\n",
       "      <td>8</td>\n",
       "      <td>funded</td>\n",
       "      <td>2018-07-19T16:54:18Z</td>\n",
       "      <td>200</td>\n",
       "      <td>14</td>\n",
       "      <td>ZW</td>\n",
       "      <td>Food</td>\n",
       "      <td>Delligent is a 23-year-old entrepreneur who li...</td>\n",
       "      <td>to buy grocery goods for her business.</td>\n",
       "    </tr>\n",
       "  </tbody>\n",
       "</table>\n",
       "<p>6019 rows × 11 columns</p>\n",
       "</div>"
      ],
      "text/plain": [
       "      id_number  loan_amount  lender_count  status           funded_date  \\\n",
       "0        736066         4825            60  funded  2014-08-03T17:51:50Z   \n",
       "1        743090          975            34  funded  2014-08-18T09:10:54Z   \n",
       "2        743120          950            25  funded  2014-08-09T17:46:35Z   \n",
       "3        743121          825            28  funded  2014-08-24T17:00:38Z   \n",
       "4        743124          725            21  funded  2014-08-25T03:24:54Z   \n",
       "...         ...          ...           ...     ...                   ...   \n",
       "6014    1568871          200             8  funded  2018-07-19T15:14:35Z   \n",
       "6015    1568880          200             8  funded  2018-07-19T19:22:43Z   \n",
       "6016    1568883          200             6  funded  2018-07-19T20:18:53Z   \n",
       "6017    1568887          200             8  funded  2018-07-18T23:38:44Z   \n",
       "6018    1568890          200             8  funded  2018-07-19T16:54:18Z   \n",
       "\n",
       "      funded_amount  repayment_term location_country_code    sector  \\\n",
       "0              4825               8                    BJ    Retail   \n",
       "1               975              12                    BJ      Food   \n",
       "2               950              14                    BJ  Services   \n",
       "3               825              14                    BJ    Retail   \n",
       "4               725              13                    BJ    Retail   \n",
       "...             ...             ...                   ...       ...   \n",
       "6014            200              14                    ZW      Food   \n",
       "6015            200              14                    ZW      Food   \n",
       "6016            200              14                    ZW  Clothing   \n",
       "6017            200              14                    ZW      Food   \n",
       "6018            200              14                    ZW      Food   \n",
       "\n",
       "                                            description  \\\n",
       "0                                                   NaN   \n",
       "1                                                   NaN   \n",
       "2                                                   NaN   \n",
       "3                                                   NaN   \n",
       "4                                                   NaN   \n",
       "...                                                 ...   \n",
       "6014  Sethukelo is a 19-year-old entrepreneur who li...   \n",
       "6015  Hlanjiwe is a 20-year-old entrepreneur who liv...   \n",
       "6016  Lebuhani is a 21-year-old entrepreneur who liv...   \n",
       "6017  Jacqueline is a 23-year-old entrepreneur who l...   \n",
       "6018  Delligent is a 23-year-old entrepreneur who li...   \n",
       "\n",
       "                                                  use  \n",
       "0                                                 NaN  \n",
       "1                                                 NaN  \n",
       "2                                                 NaN  \n",
       "3                                                 NaN  \n",
       "4                                                 NaN  \n",
       "...                                               ...  \n",
       "6014  to purchase goods for starting a grocery store.  \n",
       "6015           to buy grocery goods for her business.  \n",
       "6016                 to buy clothes for her business.  \n",
       "6017           her to buy goods to sell in her store.  \n",
       "6018           to buy grocery goods for her business.  \n",
       "\n",
       "[6019 rows x 11 columns]"
      ]
     },
     "execution_count": 9,
     "metadata": {},
     "output_type": "execute_result"
    }
   ],
   "source": [
    "df = pd.read_csv('loans.csv')\n",
    "df"
   ]
  },
  {
   "cell_type": "code",
   "execution_count": 10,
   "id": "3a312528",
   "metadata": {},
   "outputs": [
    {
     "data": {
      "text/html": [
       "<div>\n",
       "<style scoped>\n",
       "    .dataframe tbody tr th:only-of-type {\n",
       "        vertical-align: middle;\n",
       "    }\n",
       "\n",
       "    .dataframe tbody tr th {\n",
       "        vertical-align: top;\n",
       "    }\n",
       "\n",
       "    .dataframe thead th {\n",
       "        text-align: right;\n",
       "    }\n",
       "</style>\n",
       "<table border=\"1\" class=\"dataframe\">\n",
       "  <thead>\n",
       "    <tr style=\"text-align: right;\">\n",
       "      <th></th>\n",
       "      <th>id_number</th>\n",
       "      <th>loan_amount</th>\n",
       "      <th>lender_count</th>\n",
       "      <th>status</th>\n",
       "      <th>funded_date</th>\n",
       "      <th>funded_amount</th>\n",
       "      <th>repayment_term</th>\n",
       "      <th>location_country_code</th>\n",
       "      <th>sector</th>\n",
       "      <th>description</th>\n",
       "      <th>use</th>\n",
       "    </tr>\n",
       "  </thead>\n",
       "  <tbody>\n",
       "    <tr>\n",
       "      <th>2045</th>\n",
       "      <td>1454103</td>\n",
       "      <td>775</td>\n",
       "      <td>26</td>\n",
       "      <td>funded</td>\n",
       "      <td>2018-01-20T05:41:32Z</td>\n",
       "      <td>775</td>\n",
       "      <td>11</td>\n",
       "      <td>LS</td>\n",
       "      <td>Personal Use</td>\n",
       "      <td>'Malipuo is a 42-year-old woman married to a 4...</td>\n",
       "      <td>to pay for a stove.</td>\n",
       "    </tr>\n",
       "    <tr>\n",
       "      <th>5575</th>\n",
       "      <td>1456104</td>\n",
       "      <td>1025</td>\n",
       "      <td>35</td>\n",
       "      <td>funded</td>\n",
       "      <td>2018-01-24T10:55:51Z</td>\n",
       "      <td>1025</td>\n",
       "      <td>8</td>\n",
       "      <td>ZM</td>\n",
       "      <td>Services</td>\n",
       "      <td>Muller is a young emerging entrepreneur who ha...</td>\n",
       "      <td>to boost her working capital and ensure that s...</td>\n",
       "    </tr>\n",
       "    <tr>\n",
       "      <th>1875</th>\n",
       "      <td>1572272</td>\n",
       "      <td>300</td>\n",
       "      <td>0</td>\n",
       "      <td>fundraising</td>\n",
       "      <td>NaN</td>\n",
       "      <td>0</td>\n",
       "      <td>14</td>\n",
       "      <td>KE</td>\n",
       "      <td>Agriculture</td>\n",
       "      <td>Rael is characterized by her sense of responsi...</td>\n",
       "      <td>to purchase farming inputs, such as high-nutri...</td>\n",
       "    </tr>\n",
       "  </tbody>\n",
       "</table>\n",
       "</div>"
      ],
      "text/plain": [
       "      id_number  loan_amount  lender_count       status           funded_date  \\\n",
       "2045    1454103          775            26       funded  2018-01-20T05:41:32Z   \n",
       "5575    1456104         1025            35       funded  2018-01-24T10:55:51Z   \n",
       "1875    1572272          300             0  fundraising                   NaN   \n",
       "\n",
       "      funded_amount  repayment_term location_country_code        sector  \\\n",
       "2045            775              11                    LS  Personal Use   \n",
       "5575           1025               8                    ZM      Services   \n",
       "1875              0              14                    KE   Agriculture   \n",
       "\n",
       "                                            description  \\\n",
       "2045  'Malipuo is a 42-year-old woman married to a 4...   \n",
       "5575  Muller is a young emerging entrepreneur who ha...   \n",
       "1875  Rael is characterized by her sense of responsi...   \n",
       "\n",
       "                                                    use  \n",
       "2045                                to pay for a stove.  \n",
       "5575  to boost her working capital and ensure that s...  \n",
       "1875  to purchase farming inputs, such as high-nutri...  "
      ]
     },
     "execution_count": 10,
     "metadata": {},
     "output_type": "execute_result"
    }
   ],
   "source": [
    "#lets get a random sample of our data\n",
    "#let's get 3rows\n",
    "\n",
    "df.sample(n=3)"
   ]
  },
  {
   "cell_type": "markdown",
   "id": "b2e9080c",
   "metadata": {},
   "source": [
    "#### 1) Type checking\n",
    "why is this important?\n",
    "- coz the types of a feature affect what you can do to that column\n",
    "this relates to the type of function you can apply on on the column\n",
    "- the commmon data types you will see are\n",
    "1. int\n",
    "2. float \n",
    "3. str\n",
    "4. boolean\n",
    "5. datetime\n",
    "\n",
    "\n",
    "lets check the type of our variable"
   ]
  },
  {
   "cell_type": "code",
   "execution_count": 14,
   "id": "39660681",
   "metadata": {},
   "outputs": [
    {
     "data": {
      "text/plain": [
       "['id_number',\n",
       " 'loan_amount',\n",
       " 'lender_count',\n",
       " 'status',\n",
       " 'funded_date',\n",
       " 'funded_amount',\n",
       " 'repayment_term',\n",
       " 'location_country_code',\n",
       " 'sector',\n",
       " 'description',\n",
       " 'use']"
      ]
     },
     "execution_count": 14,
     "metadata": {},
     "output_type": "execute_result"
    }
   ],
   "source": [
    "#list all the columns\n",
    "df.columns.to_list()"
   ]
  },
  {
   "cell_type": "code",
   "execution_count": 15,
   "id": "f2dabd85",
   "metadata": {},
   "outputs": [
    {
     "data": {
      "text/plain": [
       "dtype('int64')"
      ]
     },
     "execution_count": 15,
     "metadata": {},
     "output_type": "execute_result"
    }
   ],
   "source": [
    "#checking for specific column\n",
    "df['id_number'].dtype"
   ]
  },
  {
   "cell_type": "code",
   "execution_count": 16,
   "id": "f811ebca",
   "metadata": {},
   "outputs": [
    {
     "data": {
      "text/plain": [
       "dtype('int64')"
      ]
     },
     "execution_count": 16,
     "metadata": {},
     "output_type": "execute_result"
    }
   ],
   "source": [
    "df.id_number.dtype"
   ]
  },
  {
   "cell_type": "code",
   "execution_count": 17,
   "id": "6ba53fd4",
   "metadata": {},
   "outputs": [
    {
     "data": {
      "text/plain": [
       "dtype('O')"
      ]
     },
     "execution_count": 17,
     "metadata": {},
     "output_type": "execute_result"
    }
   ],
   "source": [
    "df.status.dtype"
   ]
  },
  {
   "cell_type": "code",
   "execution_count": 18,
   "id": "e49199f8",
   "metadata": {},
   "outputs": [
    {
     "data": {
      "text/plain": [
       "dtype('O')"
      ]
     },
     "execution_count": 18,
     "metadata": {},
     "output_type": "execute_result"
    }
   ],
   "source": [
    "df['status'].dtype"
   ]
  },
  {
   "cell_type": "code",
   "execution_count": 29,
   "id": "eb935e56",
   "metadata": {},
   "outputs": [
    {
     "name": "stdout",
     "output_type": "stream",
     "text": [
      "<class 'pandas.core.frame.DataFrame'>\n",
      "RangeIndex: 6019 entries, 0 to 6018\n",
      "Data columns (total 11 columns):\n",
      " #   Column                 Non-Null Count  Dtype \n",
      "---  ------                 --------------  ----- \n",
      " 0   id_number              6019 non-null   int64 \n",
      " 1   loan_amount            6019 non-null   int64 \n",
      " 2   lender_count           6019 non-null   int64 \n",
      " 3   status                 6019 non-null   object\n",
      " 4   funded_date            5082 non-null   object\n",
      " 5   funded_amount          6019 non-null   int64 \n",
      " 6   repayment_term         6019 non-null   int64 \n",
      " 7   location_country_code  6002 non-null   object\n",
      " 8   sector                 6019 non-null   object\n",
      " 9   description            5677 non-null   object\n",
      " 10  use                    5677 non-null   object\n",
      "dtypes: int64(5), object(6)\n",
      "memory usage: 517.4+ KB\n"
     ]
    }
   ],
   "source": [
    "#checking for the whole data\n",
    "df.info()"
   ]
  },
  {
   "cell_type": "code",
   "execution_count": 35,
   "id": "7932be16",
   "metadata": {},
   "outputs": [
    {
     "data": {
      "text/plain": [
       "'Sethukelo is a 19-year-old entrepreneur who lives with her mother and siblings in the Lupane District of Zimbabwe.  She is requesting a Kiva loan in order to start her own grocery business.  <br /><br />Sethukelo plans to use the profit she earns to support herself, her mother, and her siblings.  She will repay the ‘social interest’ on her loan by volunteering 2.5 hours per week as a Camfed Transition Guide.  Her responsibilities include supporting other young women who are just entering Camfed’s alumnae organization, CAMA.  She will also deliver weekly sessions of an orientation course on topics such as health, financial literacy, and career guidance.'"
      ]
     },
     "execution_count": 35,
     "metadata": {},
     "output_type": "execute_result"
    }
   ],
   "source": [
    "df.description[6014]"
   ]
  },
  {
   "cell_type": "code",
   "execution_count": 28,
   "id": "2f174860",
   "metadata": {},
   "outputs": [],
   "source": [
    "#df.info"
   ]
  },
  {
   "cell_type": "code",
   "execution_count": 23,
   "id": "7b059f66",
   "metadata": {},
   "outputs": [
    {
     "data": {
      "text/plain": [
       "array(['funded', 'fundraising', 'expired'], dtype=object)"
      ]
     },
     "execution_count": 23,
     "metadata": {},
     "output_type": "execute_result"
    }
   ],
   "source": [
    "df['status'].unique()"
   ]
  },
  {
   "cell_type": "code",
   "execution_count": 21,
   "id": "a547b2b8",
   "metadata": {},
   "outputs": [
    {
     "data": {
      "text/plain": [
       "0        8\n",
       "1       12\n",
       "2       14\n",
       "3       14\n",
       "4       13\n",
       "        ..\n",
       "6014    14\n",
       "6015    14\n",
       "6016    14\n",
       "6017    14\n",
       "6018    14\n",
       "Name: repayment_term, Length: 6019, dtype: int64"
      ]
     },
     "execution_count": 21,
     "metadata": {},
     "output_type": "execute_result"
    }
   ],
   "source": [
    "df.repayment_term"
   ]
  },
  {
   "cell_type": "markdown",
   "id": "9dfc4f36",
   "metadata": {},
   "source": [
    "#### 2) do we have missing values\n",
    "if we have mising data, is the data missing randomly\n",
    "if yes, the distribution is stil representative of thepopulation\n",
    "in this case we may ignore them...\n",
    "if the data is missing systematically, you have to be more careful about \n",
    "dealing with the missing data to avoid bias. think about how to carefully \n",
    "clean data (dropping data points, filling by group etc)"
   ]
  },
  {
   "cell_type": "code",
   "execution_count": 48,
   "id": "7138eebe",
   "metadata": {},
   "outputs": [
    {
     "data": {
      "text/plain": [
       "id_number                  0\n",
       "loan_amount                0\n",
       "lender_count               0\n",
       "status                     0\n",
       "funded_date              937\n",
       "funded_amount              0\n",
       "repayment_term             0\n",
       "location_country_code     17\n",
       "sector                     0\n",
       "description              342\n",
       "use                      342\n",
       "dtype: int64"
      ]
     },
     "execution_count": 48,
     "metadata": {},
     "output_type": "execute_result"
    }
   ],
   "source": [
    "#checking for missing value\n",
    "df.isnull().sum()"
   ]
  },
  {
   "cell_type": "code",
   "execution_count": null,
   "id": "5787c80a",
   "metadata": {},
   "outputs": [],
   "source": [
    "#lambda is an anonymous fxn\n",
    "#the syntax is \n",
    "# lambda arguments : expression"
   ]
  },
  {
   "cell_type": "code",
   "execution_count": 55,
   "id": "82d0434d",
   "metadata": {},
   "outputs": [
    {
     "name": "stdout",
     "output_type": "stream",
     "text": [
      "Missing values per column\n",
      "funded_date              937.0\n",
      "location_country_code     17.0\n",
      "description              342.0\n",
      "use                      342.0\n",
      "dtype: float64\n"
     ]
    }
   ],
   "source": [
    "#let use a fxn \n",
    "def missing_num(x):\n",
    "    return sum(x.isna())\n",
    "\n",
    "print('Missing values per column')\n",
    "#applying our fxn by column\n",
    "#check sum of missing value by column, and get the columns where \n",
    "#the sum is not zero\n",
    "\n",
    "print(df.apply(missing_num, axis = 0).where(lambda x: x!=0).dropna())"
   ]
  },
  {
   "cell_type": "code",
   "execution_count": 46,
   "id": "6e6bdf5e",
   "metadata": {},
   "outputs": [
    {
     "name": "stdout",
     "output_type": "stream",
     "text": [
      "15\n"
     ]
    }
   ],
   "source": [
    "#lambda example\n",
    "x = lambda b: b+10\n",
    "print(x(5))"
   ]
  },
  {
   "cell_type": "markdown",
   "id": "c21863cf",
   "metadata": {},
   "source": [
    "#### 3) Sanity  checks\n",
    "###### Does the data make sense? Does it match what you expect to find\n",
    "\n",
    "- is the range of values what you would xpect? eg, all loan amounts must\n",
    "greater than zero, funded amounmt cannot be negative\n",
    "- do you have the number of rows expected\n",
    "- do you have reasonable dates. dates cannot be future and dates should notbe to far ago\n",
    "eg 1900, 1889\n",
    "-do you have unxpected spikes in any of the int columns or evern over time"
   ]
  },
  {
   "cell_type": "code",
   "execution_count": 59,
   "id": "5e37253b",
   "metadata": {},
   "outputs": [
    {
     "data": {
      "text/plain": [
       "50"
      ]
     },
     "execution_count": 59,
     "metadata": {},
     "output_type": "execute_result"
    }
   ],
   "source": [
    "#eg. checking min value for loan amnt\n",
    "df.loan_amount.min()"
   ]
  },
  {
   "cell_type": "code",
   "execution_count": 60,
   "id": "8be4349c",
   "metadata": {},
   "outputs": [
    {
     "data": {
      "text/plain": [
       "0"
      ]
     },
     "execution_count": 60,
     "metadata": {},
     "output_type": "execute_result"
    }
   ],
   "source": [
    "df.funded_amount.min()"
   ]
  },
  {
   "cell_type": "markdown",
   "id": "418d275a",
   "metadata": {},
   "source": [
    "##### 4) Descriptive stat of the dataset"
   ]
  },
  {
   "cell_type": "code",
   "execution_count": 61,
   "id": "0280bd21",
   "metadata": {},
   "outputs": [
    {
     "data": {
      "text/html": [
       "<div>\n",
       "<style scoped>\n",
       "    .dataframe tbody tr th:only-of-type {\n",
       "        vertical-align: middle;\n",
       "    }\n",
       "\n",
       "    .dataframe tbody tr th {\n",
       "        vertical-align: top;\n",
       "    }\n",
       "\n",
       "    .dataframe thead th {\n",
       "        text-align: right;\n",
       "    }\n",
       "</style>\n",
       "<table border=\"1\" class=\"dataframe\">\n",
       "  <thead>\n",
       "    <tr style=\"text-align: right;\">\n",
       "      <th></th>\n",
       "      <th>id_number</th>\n",
       "      <th>loan_amount</th>\n",
       "      <th>lender_count</th>\n",
       "      <th>funded_amount</th>\n",
       "      <th>repayment_term</th>\n",
       "    </tr>\n",
       "  </thead>\n",
       "  <tbody>\n",
       "    <tr>\n",
       "      <th>count</th>\n",
       "      <td>6.019000e+03</td>\n",
       "      <td>6019.000000</td>\n",
       "      <td>6019.000000</td>\n",
       "      <td>6019.000000</td>\n",
       "      <td>6019.000000</td>\n",
       "    </tr>\n",
       "    <tr>\n",
       "      <th>mean</th>\n",
       "      <td>1.359770e+06</td>\n",
       "      <td>1499.011464</td>\n",
       "      <td>35.661406</td>\n",
       "      <td>1325.070610</td>\n",
       "      <td>11.803290</td>\n",
       "    </tr>\n",
       "    <tr>\n",
       "      <th>std</th>\n",
       "      <td>3.719316e+05</td>\n",
       "      <td>2512.517280</td>\n",
       "      <td>73.420256</td>\n",
       "      <td>2444.726815</td>\n",
       "      <td>9.114948</td>\n",
       "    </tr>\n",
       "    <tr>\n",
       "      <th>min</th>\n",
       "      <td>1.377200e+04</td>\n",
       "      <td>50.000000</td>\n",
       "      <td>0.000000</td>\n",
       "      <td>0.000000</td>\n",
       "      <td>3.000000</td>\n",
       "    </tr>\n",
       "    <tr>\n",
       "      <th>25%</th>\n",
       "      <td>1.425188e+06</td>\n",
       "      <td>300.000000</td>\n",
       "      <td>7.000000</td>\n",
       "      <td>200.000000</td>\n",
       "      <td>8.000000</td>\n",
       "    </tr>\n",
       "    <tr>\n",
       "      <th>50%</th>\n",
       "      <td>1.550673e+06</td>\n",
       "      <td>625.000000</td>\n",
       "      <td>16.000000</td>\n",
       "      <td>525.000000</td>\n",
       "      <td>10.000000</td>\n",
       "    </tr>\n",
       "    <tr>\n",
       "      <th>75%</th>\n",
       "      <td>1.566204e+06</td>\n",
       "      <td>1825.000000</td>\n",
       "      <td>41.000000</td>\n",
       "      <td>1525.000000</td>\n",
       "      <td>14.000000</td>\n",
       "    </tr>\n",
       "    <tr>\n",
       "      <th>max</th>\n",
       "      <td>1.573593e+06</td>\n",
       "      <td>80000.000000</td>\n",
       "      <td>2665.000000</td>\n",
       "      <td>80000.000000</td>\n",
       "      <td>133.000000</td>\n",
       "    </tr>\n",
       "  </tbody>\n",
       "</table>\n",
       "</div>"
      ],
      "text/plain": [
       "          id_number   loan_amount  lender_count  funded_amount  repayment_term\n",
       "count  6.019000e+03   6019.000000   6019.000000    6019.000000     6019.000000\n",
       "mean   1.359770e+06   1499.011464     35.661406    1325.070610       11.803290\n",
       "std    3.719316e+05   2512.517280     73.420256    2444.726815        9.114948\n",
       "min    1.377200e+04     50.000000      0.000000       0.000000        3.000000\n",
       "25%    1.425188e+06    300.000000      7.000000     200.000000        8.000000\n",
       "50%    1.550673e+06    625.000000     16.000000     525.000000       10.000000\n",
       "75%    1.566204e+06   1825.000000     41.000000    1525.000000       14.000000\n",
       "max    1.573593e+06  80000.000000   2665.000000   80000.000000      133.000000"
      ]
     },
     "execution_count": 61,
     "metadata": {},
     "output_type": "execute_result"
    }
   ],
   "source": [
    "#we can check the key summaries of the dataset (numerical column)\n",
    "#using the describe method\n",
    "\n",
    "df.describe()"
   ]
  },
  {
   "cell_type": "code",
   "execution_count": 66,
   "id": "ac85e50a",
   "metadata": {},
   "outputs": [
    {
     "data": {
      "text/html": [
       "<div>\n",
       "<style scoped>\n",
       "    .dataframe tbody tr th:only-of-type {\n",
       "        vertical-align: middle;\n",
       "    }\n",
       "\n",
       "    .dataframe tbody tr th {\n",
       "        vertical-align: top;\n",
       "    }\n",
       "\n",
       "    .dataframe thead th {\n",
       "        text-align: right;\n",
       "    }\n",
       "</style>\n",
       "<table border=\"1\" class=\"dataframe\">\n",
       "  <thead>\n",
       "    <tr style=\"text-align: right;\">\n",
       "      <th></th>\n",
       "      <th>status</th>\n",
       "      <th>funded_date</th>\n",
       "      <th>location_country_code</th>\n",
       "      <th>sector</th>\n",
       "      <th>description</th>\n",
       "      <th>use</th>\n",
       "    </tr>\n",
       "  </thead>\n",
       "  <tbody>\n",
       "    <tr>\n",
       "      <th>count</th>\n",
       "      <td>6019</td>\n",
       "      <td>5082</td>\n",
       "      <td>6002</td>\n",
       "      <td>6019</td>\n",
       "      <td>5677</td>\n",
       "      <td>5677</td>\n",
       "    </tr>\n",
       "    <tr>\n",
       "      <th>unique</th>\n",
       "      <td>3</td>\n",
       "      <td>4453</td>\n",
       "      <td>30</td>\n",
       "      <td>14</td>\n",
       "      <td>5277</td>\n",
       "      <td>4325</td>\n",
       "    </tr>\n",
       "    <tr>\n",
       "      <th>top</th>\n",
       "      <td>funded</td>\n",
       "      <td>2018-07-22T15:54:41Z</td>\n",
       "      <td>TZ</td>\n",
       "      <td>Food</td>\n",
       "      <td>Zaina is 19-year-old entrepreneur who lives wi...</td>\n",
       "      <td>to pay for a stove.</td>\n",
       "    </tr>\n",
       "    <tr>\n",
       "      <th>freq</th>\n",
       "      <td>5082</td>\n",
       "      <td>9</td>\n",
       "      <td>400</td>\n",
       "      <td>1738</td>\n",
       "      <td>2</td>\n",
       "      <td>80</td>\n",
       "    </tr>\n",
       "  </tbody>\n",
       "</table>\n",
       "</div>"
      ],
      "text/plain": [
       "        status           funded_date location_country_code sector  \\\n",
       "count     6019                  5082                  6002   6019   \n",
       "unique       3                  4453                    30     14   \n",
       "top     funded  2018-07-22T15:54:41Z                    TZ   Food   \n",
       "freq      5082                     9                   400   1738   \n",
       "\n",
       "                                              description                  use  \n",
       "count                                                5677                 5677  \n",
       "unique                                               5277                 4325  \n",
       "top     Zaina is 19-year-old entrepreneur who lives wi...  to pay for a stove.  \n",
       "freq                                                    2                   80  "
      ]
     },
     "execution_count": 66,
     "metadata": {},
     "output_type": "execute_result"
    }
   ],
   "source": [
    "#to get the summary of the object columns\n",
    "#first, let's create a variable that holds the categorical or object data type\n",
    "#then we can get the description using describe method\n",
    "\n",
    "categorical = df.dtypes[df.dtypes=='object'].index\n",
    "df[categorical].describe()"
   ]
  },
  {
   "cell_type": "code",
   "execution_count": 64,
   "id": "abec4099",
   "metadata": {},
   "outputs": [
    {
     "data": {
      "text/plain": [
       "Index(['status', 'funded_date', 'location_country_code', 'sector',\n",
       "       'description', 'use'],\n",
       "      dtype='object')"
      ]
     },
     "execution_count": 64,
     "metadata": {},
     "output_type": "execute_result"
    }
   ],
   "source": [
    "categorical"
   ]
  },
  {
   "cell_type": "markdown",
   "id": "e3233193",
   "metadata": {},
   "source": [
    "In the table above, there are 4 really useful fields:\n",
    "\n",
    "1) count - total number of fields populated (Not empty).\n",
    "\n",
    "2) unique - tells us how many different unique ways this field is populated. For example 4 in description.languages tells us there are 4 different language descriptions.\n",
    "\n",
    "3) top - tells us the most popular data point. For example, the top activity in this dataset is Farming which tells us most loans are in Farming.\n",
    "\n",
    "4) freq - tells us that how frequent the most popular category is in our dataset. For example, 'en' (English) is the language almost all descriptions (description.languages) are written in (118,306 out of 118,316)."
   ]
  },
  {
   "cell_type": "code",
   "execution_count": null,
   "id": "bf0855bb",
   "metadata": {},
   "outputs": [],
   "source": []
  },
  {
   "cell_type": "markdown",
   "id": "5061cf9c",
   "metadata": {},
   "source": [
    "from https://github.com/AISaturdaysLagos/cohort7_classes/blob/main/Week4__Visualization_Data_Exploration/1_module_introduction_pandas/1_4_loading_and_understanding_data.ipynb"
   ]
  },
  {
   "cell_type": "code",
   "execution_count": null,
   "id": "bc52097f",
   "metadata": {},
   "outputs": [],
   "source": []
  }
 ],
 "metadata": {
  "kernelspec": {
   "display_name": "Python 3 (ipykernel)",
   "language": "python",
   "name": "python3"
  },
  "language_info": {
   "codemirror_mode": {
    "name": "ipython",
    "version": 3
   },
   "file_extension": ".py",
   "mimetype": "text/x-python",
   "name": "python",
   "nbconvert_exporter": "python",
   "pygments_lexer": "ipython3",
   "version": "3.9.12"
  }
 },
 "nbformat": 4,
 "nbformat_minor": 5
}

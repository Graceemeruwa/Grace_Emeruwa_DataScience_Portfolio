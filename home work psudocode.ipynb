{
 "cells": [
  {
   "cell_type": "markdown",
   "id": "9c6fda64",
   "metadata": {},
   "source": [
    "Assessment #1\n",
    "\n",
    "A program will receive students’ exam result details and print a student exam grade report.\n",
    "\n",
    "The student exam details are the student ID, name, number of semesters in the university and exam score (out of 50%).\n",
    "\n",
    "The program is to calculate the percentage of exam score (out of 100%) and\n",
    "\n",
    "analyse the students’ eligibility to join self-improvement program.\n",
    "\n",
    "The letter grade for exam is determined as follows:\n",
    "\n",
    "A=90-100% B=80-89% C=70-79% D=60-69% F=0-59%\n",
    "\n",
    "The university offers 2 self-improvement programs:\n",
    "\n",
    "Soaring the Eagles are for those who has been in the university for 3 semesters and received grade A & B for the exam and\n",
    "Coaching the Cubs are for those who are only in the university for 1 semester and getting F in their exam.\n",
    "The program shall display the student ID, name, exam score over 100%, its letter grade plus the relevant self-improvement program.\n",
    "\n",
    "Deliverable items to your lab tutor:\n",
    "\n",
    "Pseudocode OR Flowchart in word document/pdf format\n",
    "Python Program in .py format\n",
    "Three sets of output from the program runs (to be included with deliverable 1)"
   ]
  },
  {
   "cell_type": "code",
   "execution_count": null,
   "id": "e6c53591",
   "metadata": {},
   "outputs": [],
   "source": [
    "input = students' information (ID, name, no of semester, exam score(out of 50%)\n",
    "\n",
    "process\n",
    "student ID\n",
    "student_ID = use input function to enter student ID (int)\n",
    "student_name = use input function to enter student name (string)\n",
    "no_semester = use input function to enter student no of semester (int)\n",
    "exam_score50 = use input function to enter student exma score over 50% (int)\n",
    "exam_score= exam_score*2\n",
    "\n",
    "letter grade\n",
    "use if satement\n",
    "if exam_score is greater than equal to 90 print A\n",
    "elif exam_score is greater than equal to 80 print B\n",
    "elif exam_score is greater than equal to 70 print c\n",
    "elif exam_score is greater than equal to 60 print D\n",
    "else: print F\n",
    "eligibility to join self-improvement program\n",
    "use if statement\n",
    "if number of semester is greater or equal to 3 and you receive grade A or B print('soaring eagle') elif number of semester is equal to 1 and you received grade F: print('coaching cubs') else: ('not eligible')\n",
    "\n",
    "#\n",
    "\n",
    "The program shall display the student ID, name, exam score over 100%, its letter grade plus the relevant self-improvement program."
   ]
  },
  {
   "cell_type": "code",
   "execution_count": 3,
   "id": "412b9f16",
   "metadata": {},
   "outputs": [
    {
     "name": "stdout",
     "output_type": "stream",
     "text": [
      "Enter your Student ID: 345\n",
      "Please, Enter your name: folake\n",
      "Please, Enter your no of semester: 3\n",
      "Please, Enter your exam score: 70\n",
      "hello, folake grade is A and your self-improvement program is soaring eagle\n"
     ]
    }
   ],
   "source": [
    "student_ID = int(input('Enter your Student ID: '))                    \n",
    "student_name = input(\"Please, Enter your name: \")\n",
    "\n",
    "no_semester = int(input(\"Please, Enter your no of semester: \"))\n",
    "\n",
    "exam_score50 = int(input(\"Please, Enter your exam score: \"))\n",
    "\n",
    "exam_score = exam_score50*2\n",
    "\n",
    "if exam_score >= 90:\n",
    "    grade = 'A'\n",
    "elif exam_score >= 80: \n",
    "    grade = 'B'\n",
    "elif exam_score >= 70:\n",
    "    grade = 'C'\n",
    "elif exam_score >= 60:\n",
    "    grade = 'D'\n",
    "else:\n",
    "    grade = 'F'\n",
    "\n",
    "\n",
    "if no_semester >= 3 and grade == 'A' or 'B':\n",
    "    self_imp = 'soaring eagle'\n",
    "elif no_semester == 1 and grade == F:\n",
    "    self_imp = 'coaching cubs'\n",
    "else:\n",
    "    self_imp = 'not eligible'\n",
    "\n",
    "print(\"hello, \" + student_name + \" grade is \" + grade + \" and your self-improvement program is \" + self_imp)\n"
   ]
  },
  {
   "cell_type": "code",
   "execution_count": null,
   "id": "b24e6abd",
   "metadata": {},
   "outputs": [],
   "source": []
  }
 ],
 "metadata": {
  "kernelspec": {
   "display_name": "Python 3 (ipykernel)",
   "language": "python",
   "name": "python3"
  },
  "language_info": {
   "codemirror_mode": {
    "name": "ipython",
    "version": 3
   },
   "file_extension": ".py",
   "mimetype": "text/x-python",
   "name": "python",
   "nbconvert_exporter": "python",
   "pygments_lexer": "ipython3",
   "version": "3.9.12"
  }
 },
 "nbformat": 4,
 "nbformat_minor": 5
}

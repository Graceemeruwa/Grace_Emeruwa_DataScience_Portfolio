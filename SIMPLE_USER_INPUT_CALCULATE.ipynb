{
 "cells": [
  {
   "cell_type": "markdown",
   "id": "d3a887df",
   "metadata": {},
   "source": [
    "1.Write a simple calculator program to perform calculations MULTIPLY, DIVIDE, ADD and SUBTRACT by using function. Create a function named GET_INPUT to retrieve user input on which operation and numbers to be processed by the program. \n",
    "\n",
    "Note: operation MULTIPLY, DIVIDE, ADD and SUBTRACT could be in 4 different functions or all in 1 function only\n"
   ]
  },
  {
   "cell_type": "code",
   "execution_count": 26,
   "id": "2bd8bb9d",
   "metadata": {},
   "outputs": [
    {
     "name": "stdout",
     "output_type": "stream",
     "text": [
      "Enter first number :7\n",
      "Enter second number :167\n",
      "addition of 7 and 167 is 174\n"
     ]
    }
   ],
   "source": [
    "\"\"\"\n",
    "this function sum two numbers\n",
    "\"\"\"\n",
    "def add(x , y):\n",
    "    return x + y\n",
    " \n",
    "a = int(input(\"Enter first number :\" ))\n",
    "b = int(input(\"Enter second number :\"))\n",
    " \n",
    "sum = add(a , b)\n",
    " \n",
    "print(\"addition of {} and {} is {}\". format(a,b,sum))"
   ]
  },
  {
   "cell_type": "code",
   "execution_count": 7,
   "id": "4a6505e4",
   "metadata": {},
   "outputs": [
    {
     "name": "stdout",
     "output_type": "stream",
     "text": [
      "Enter first number :6\n",
      "Enter second number :5\n",
      "multiplication of 6 * 5 is 30\n"
     ]
    }
   ],
   "source": [
    "\"\"\"\n",
    "this function multiply two numbers\n",
    "\"\"\"\n",
    "\n",
    "def mul(x , y):\n",
    "    return x * y\n",
    "\n",
    "a = int(input(\"Enter first number :\" ))\n",
    "b = int(input(\"Enter second number :\"))\n",
    "\n",
    "mul = mul(a, b)\n",
    "\n",
    "print(\"multiplication of {} * {} is {}\".format(a,b,mul))"
   ]
  },
  {
   "cell_type": "code",
   "execution_count": 9,
   "id": "3d5f3af3",
   "metadata": {},
   "outputs": [
    {
     "name": "stdout",
     "output_type": "stream",
     "text": [
      "Enter first number :10\n",
      "Enter second number :2\n",
      "division of 10 / 2 is 5.0\n"
     ]
    }
   ],
   "source": [
    "\"\"\"\n",
    "this function divide two numbers\n",
    "\"\"\"\n",
    "\n",
    "def div(x , y):\n",
    "    return x / y\n",
    "\n",
    "a = int(input(\"Enter first number :\" ))\n",
    "b = int(input(\"Enter second number :\"))\n",
    "\n",
    "div = div(a, b)\n",
    "\n",
    "print(\"division of {} / {} is {}\".format(a,b,div))"
   ]
  },
  {
   "cell_type": "code",
   "execution_count": 10,
   "id": "aa4a3926",
   "metadata": {},
   "outputs": [
    {
     "name": "stdout",
     "output_type": "stream",
     "text": [
      "Enter first number :10\n",
      "Enter second number :5\n",
      "substraction of 10 - 5 is 5\n"
     ]
    }
   ],
   "source": [
    "\"\"\"\n",
    "this function substract two numbers\n",
    "\"\"\"\n",
    "\n",
    "def sub(x , y):\n",
    "    return x - y\n",
    "\n",
    "a = int(input(\"Enter first number :\" ))\n",
    "b = int(input(\"Enter second number :\"))\n",
    "\n",
    "sub = sub(a, b)\n",
    "\n",
    "print(\"substraction of {} - {} is {}\".format(a,b,sub))"
   ]
  },
  {
   "cell_type": "code",
   "execution_count": 15,
   "id": "3f271a70",
   "metadata": {},
   "outputs": [
    {
     "name": "stdout",
     "output_type": "stream",
     "text": [
      "Enter first number :2\n",
      "Enter second number :2\n",
      "Enter third number :2\n",
      "multiplication of 2 * 2 *2 is 8\n"
     ]
    }
   ],
   "source": [
    "\"\"\"\n",
    "this function multiply three numbers\n",
    "\"\"\"\n",
    "\n",
    "def mul(x , y, z):\n",
    "    return x * y * z\n",
    "\n",
    "a = int(input(\"Enter first number :\" ))\n",
    "b = int(input(\"Enter second number :\"))\n",
    "c = int(input(\"Enter third number :\"))\n",
    "\n",
    "mul = mul(a, b, c)\n",
    "\n",
    "print(\"multiplication of {} * {} *{} is {}\".format(a,b,c, mul))"
   ]
  }
 ],
 "metadata": {
  "kernelspec": {
   "display_name": "Python 3 (ipykernel)",
   "language": "python",
   "name": "python3"
  },
  "language_info": {
   "codemirror_mode": {
    "name": "ipython",
    "version": 3
   },
   "file_extension": ".py",
   "mimetype": "text/x-python",
   "name": "python",
   "nbconvert_exporter": "python",
   "pygments_lexer": "ipython3",
   "version": "3.9.12"
  }
 },
 "nbformat": 4,
 "nbformat_minor": 5
}
